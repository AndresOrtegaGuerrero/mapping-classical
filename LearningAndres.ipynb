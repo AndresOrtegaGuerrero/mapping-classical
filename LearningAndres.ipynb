{
 "metadata": {
  "language_info": {
   "codemirror_mode": {
    "name": "ipython",
    "version": 3
   },
   "file_extension": ".py",
   "mimetype": "text/x-python",
   "name": "python",
   "nbconvert_exporter": "python",
   "pygments_lexer": "ipython3",
   "version": "3.7.3"
  },
  "orig_nbformat": 2,
  "kernelspec": {
   "name": "python373jvsc74a57bd0de86568e66ed5f0a90ace966341918b9cf369f756635d638ef4eda85db95a541",
   "display_name": "Python 3.7.3 64-bit ('base': conda)"
  }
 },
 "nbformat": 4,
 "nbformat_minor": 2,
 "cells": [
  {
   "cell_type": "code",
   "execution_count": 2,
   "metadata": {},
   "outputs": [],
   "source": [
    "import sys\n",
    "import time\n",
    "from pyscf import gto, scf, mcscf, mp, cc, dft\n",
    "from pyscf import lo\n",
    "from pyscf.tools import molden, cubegen\n",
    "from pyscf.geomopt.geometric_solver import optimize\n",
    "import numpy\n",
    "from pymatgen.core import Lattice, Structure, Molecule\n",
    "from pyscf.dft import libxc\n",
    "import pyscf\n"
   ]
  },
  {
   "cell_type": "code",
   "execution_count": 3,
   "metadata": {},
   "outputs": [
    {
     "output_type": "error",
     "ename": "ValueError",
     "evalue": "invalid literal for int() with base 10: 'C         -0.66720        0.00000        0.00000'",
     "traceback": [
      "\u001b[0;31m---------------------------------------------------------------------------\u001b[0m",
      "\u001b[0;31mValueError\u001b[0m                                Traceback (most recent call last)",
      "\u001b[0;32m<ipython-input-3-a94d6761c5ad>\u001b[0m in \u001b[0;36m<module>\u001b[0;34m\u001b[0m\n\u001b[1;32m      1\u001b[0m \u001b[0;31m#Define the molecule settings (Coordinates, Basis, Spin, Charge, Unit)\u001b[0m\u001b[0;34m\u001b[0m\u001b[0;34m\u001b[0m\u001b[0;34m\u001b[0m\u001b[0m\n\u001b[1;32m      2\u001b[0m \u001b[0mmol\u001b[0m \u001b[0;34m=\u001b[0m \u001b[0mgto\u001b[0m\u001b[0;34m.\u001b[0m\u001b[0mMole\u001b[0m\u001b[0;34m(\u001b[0m\u001b[0;34m)\u001b[0m\u001b[0;34m\u001b[0m\u001b[0;34m\u001b[0m\u001b[0m\n\u001b[0;32m----> 3\u001b[0;31m \u001b[0mmol\u001b[0m\u001b[0;34m.\u001b[0m\u001b[0mfromfile\u001b[0m\u001b[0;34m(\u001b[0m\u001b[0;34m\"Ethene_Monomer.xyz\"\u001b[0m\u001b[0;34m)\u001b[0m\u001b[0;34m\u001b[0m\u001b[0;34m\u001b[0m\u001b[0m\n\u001b[0m\u001b[1;32m      4\u001b[0m \u001b[0mmol\u001b[0m\u001b[0;34m.\u001b[0m\u001b[0mbasis\u001b[0m \u001b[0;34m=\u001b[0m \u001b[0;34m'sto3g'\u001b[0m\u001b[0;34m\u001b[0m\u001b[0;34m\u001b[0m\u001b[0m\n\u001b[1;32m      5\u001b[0m \u001b[0mmol\u001b[0m\u001b[0;34m.\u001b[0m\u001b[0msymmetry\u001b[0m \u001b[0;34m=\u001b[0m \u001b[0;32mTrue\u001b[0m\u001b[0;34m\u001b[0m\u001b[0;34m\u001b[0m\u001b[0m\n",
      "\u001b[0;32m~/anaconda3/lib/python3.7/site-packages/pyscf/gto/mole.py\u001b[0m in \u001b[0;36mfromfile\u001b[0;34m(self, filename, format)\u001b[0m\n\u001b[1;32m   3207\u001b[0m     \u001b[0;32mdef\u001b[0m \u001b[0mfromfile\u001b[0m\u001b[0;34m(\u001b[0m\u001b[0mself\u001b[0m\u001b[0;34m,\u001b[0m \u001b[0mfilename\u001b[0m\u001b[0;34m,\u001b[0m \u001b[0mformat\u001b[0m\u001b[0;34m=\u001b[0m\u001b[0;32mNone\u001b[0m\u001b[0;34m)\u001b[0m\u001b[0;34m:\u001b[0m\u001b[0;34m\u001b[0m\u001b[0;34m\u001b[0m\u001b[0m\n\u001b[1;32m   3208\u001b[0m         \u001b[0;34m'''Update the Mole object based on the input geometry file'''\u001b[0m\u001b[0;34m\u001b[0m\u001b[0;34m\u001b[0m\u001b[0m\n\u001b[0;32m-> 3209\u001b[0;31m         \u001b[0matom\u001b[0m \u001b[0;34m=\u001b[0m \u001b[0mself\u001b[0m\u001b[0;34m.\u001b[0m\u001b[0mformat_atom\u001b[0m\u001b[0;34m(\u001b[0m\u001b[0mfromfile\u001b[0m\u001b[0;34m(\u001b[0m\u001b[0mfilename\u001b[0m\u001b[0;34m,\u001b[0m \u001b[0mformat\u001b[0m\u001b[0;34m)\u001b[0m\u001b[0;34m,\u001b[0m \u001b[0munit\u001b[0m\u001b[0;34m=\u001b[0m\u001b[0;36m1\u001b[0m\u001b[0;34m)\u001b[0m\u001b[0;34m\u001b[0m\u001b[0;34m\u001b[0m\u001b[0m\n\u001b[0m\u001b[1;32m   3210\u001b[0m         \u001b[0mself\u001b[0m\u001b[0;34m.\u001b[0m\u001b[0mset_geom_\u001b[0m\u001b[0;34m(\u001b[0m\u001b[0matom\u001b[0m\u001b[0;34m,\u001b[0m \u001b[0munit\u001b[0m\u001b[0;34m=\u001b[0m\u001b[0;34m'Angstrom'\u001b[0m\u001b[0;34m,\u001b[0m \u001b[0minplace\u001b[0m\u001b[0;34m=\u001b[0m\u001b[0;32mTrue\u001b[0m\u001b[0;34m)\u001b[0m\u001b[0;34m\u001b[0m\u001b[0;34m\u001b[0m\u001b[0m\n\u001b[1;32m   3211\u001b[0m         \u001b[0;32mif\u001b[0m \u001b[0mformat\u001b[0m \u001b[0;34m==\u001b[0m \u001b[0;34m'sdf'\u001b[0m\u001b[0;34m:\u001b[0m\u001b[0;34m\u001b[0m\u001b[0;34m\u001b[0m\u001b[0m\n",
      "\u001b[0;32m~/anaconda3/lib/python3.7/site-packages/pyscf/gto/mole.py\u001b[0m in \u001b[0;36mfromfile\u001b[0;34m(filename, format)\u001b[0m\n\u001b[1;32m   1896\u001b[0m             \u001b[0mformat\u001b[0m \u001b[0;34m=\u001b[0m \u001b[0;34m'raw'\u001b[0m\u001b[0;34m\u001b[0m\u001b[0;34m\u001b[0m\u001b[0m\n\u001b[1;32m   1897\u001b[0m     \u001b[0;32mwith\u001b[0m \u001b[0mopen\u001b[0m\u001b[0;34m(\u001b[0m\u001b[0mfilename\u001b[0m\u001b[0;34m,\u001b[0m \u001b[0;34m'r'\u001b[0m\u001b[0;34m)\u001b[0m \u001b[0;32mas\u001b[0m \u001b[0mf\u001b[0m\u001b[0;34m:\u001b[0m\u001b[0;34m\u001b[0m\u001b[0;34m\u001b[0m\u001b[0m\n\u001b[0;32m-> 1898\u001b[0;31m         \u001b[0;32mreturn\u001b[0m \u001b[0mfromstring\u001b[0m\u001b[0;34m(\u001b[0m\u001b[0mf\u001b[0m\u001b[0;34m.\u001b[0m\u001b[0mread\u001b[0m\u001b[0;34m(\u001b[0m\u001b[0;34m)\u001b[0m\u001b[0;34m,\u001b[0m \u001b[0mformat\u001b[0m\u001b[0;34m)\u001b[0m\u001b[0;34m\u001b[0m\u001b[0;34m\u001b[0m\u001b[0m\n\u001b[0m\u001b[1;32m   1899\u001b[0m \u001b[0;34m\u001b[0m\u001b[0m\n\u001b[1;32m   1900\u001b[0m \u001b[0;34m\u001b[0m\u001b[0m\n",
      "\u001b[0;32m~/anaconda3/lib/python3.7/site-packages/pyscf/gto/mole.py\u001b[0m in \u001b[0;36mfromstring\u001b[0;34m(string, format)\u001b[0m\n\u001b[1;32m   1913\u001b[0m     \u001b[0;32melif\u001b[0m \u001b[0mformat\u001b[0m \u001b[0;34m==\u001b[0m \u001b[0;34m'xyz'\u001b[0m\u001b[0;34m:\u001b[0m\u001b[0;34m\u001b[0m\u001b[0;34m\u001b[0m\u001b[0m\n\u001b[1;32m   1914\u001b[0m         \u001b[0mdat\u001b[0m \u001b[0;34m=\u001b[0m \u001b[0mstring\u001b[0m\u001b[0;34m.\u001b[0m\u001b[0msplitlines\u001b[0m\u001b[0;34m(\u001b[0m\u001b[0;34m)\u001b[0m\u001b[0;34m\u001b[0m\u001b[0;34m\u001b[0m\u001b[0m\n\u001b[0;32m-> 1915\u001b[0;31m         \u001b[0mnatm\u001b[0m \u001b[0;34m=\u001b[0m \u001b[0mint\u001b[0m\u001b[0;34m(\u001b[0m\u001b[0mdat\u001b[0m\u001b[0;34m[\u001b[0m\u001b[0;36m0\u001b[0m\u001b[0;34m]\u001b[0m\u001b[0;34m)\u001b[0m\u001b[0;34m\u001b[0m\u001b[0;34m\u001b[0m\u001b[0m\n\u001b[0m\u001b[1;32m   1916\u001b[0m         \u001b[0;32mreturn\u001b[0m \u001b[0;34m'\\n'\u001b[0m\u001b[0;34m.\u001b[0m\u001b[0mjoin\u001b[0m\u001b[0;34m(\u001b[0m\u001b[0mdat\u001b[0m\u001b[0;34m[\u001b[0m\u001b[0;36m2\u001b[0m\u001b[0;34m:\u001b[0m\u001b[0mnatm\u001b[0m\u001b[0;34m+\u001b[0m\u001b[0;36m2\u001b[0m\u001b[0;34m]\u001b[0m\u001b[0;34m)\u001b[0m\u001b[0;34m\u001b[0m\u001b[0;34m\u001b[0m\u001b[0m\n\u001b[1;32m   1917\u001b[0m     \u001b[0;32melif\u001b[0m \u001b[0mformat\u001b[0m \u001b[0;34m==\u001b[0m \u001b[0;34m'sdf'\u001b[0m\u001b[0;34m:\u001b[0m\u001b[0;34m\u001b[0m\u001b[0;34m\u001b[0m\u001b[0m\n",
      "\u001b[0;31mValueError\u001b[0m: invalid literal for int() with base 10: 'C         -0.66720        0.00000        0.00000'"
     ]
    }
   ],
   "source": [
    "#Define the molecule settings (Coordinates, Basis, Spin, Charge, Unit)\n",
    "mol = gto.Mole()\n",
    "mol.fromfile(\"Ethene_Monomer.xyz\") \n",
    "mol.basis = 'sto3g'\n",
    "mol.symmetry = True\n",
    "mol.spin = 0\n",
    "mol.charge = 0\n",
    "mol.unit = 'A'\n",
    "mol.verbose = 5\n",
    "mol.output = '/Users/andres/Desktop/out.out'\n",
    "mol.build()\n",
    "mol.atom_symbol\n"
   ]
  },
  {
   "source": [
    "#Use RKS , select the XC , Print Orbitals, Energies, Dipole ...\n",
    "mf = dft.RKS(mol)\n",
    "mf.xc = 'PBE'\n",
    "#mf.xc = 'pbe,pbe'\n",
    "#mf.xc = 'camb3lyp'\n",
    "mf.kernel()\n",
    "with open('mo_DFT.molden', 'w') as f1:\n",
    "        molden.header(mol, f1) \n",
    "        molden.orbital_coeff(mol, f1, mf.mo_coeff, ene=mf.mo_energy, occ=mf.mo_occ)\n",
    "\n",
    "print('Dipole moment %s' %(mf.dip_moment()))\n",
    "print('Energy (a.u.) %5.6f' %(mf.e_tot))\n",
    "\n",
    "print(mf.mo_coeff[0])\n",
    "print(mf.mo_coeff[1])"
   ],
   "cell_type": "code",
   "metadata": {},
   "execution_count": 361,
   "outputs": [
    {
     "output_type": "stream",
     "name": "stdout",
     "text": [
      "Dipole moment [ 2.79908185e-05  8.33372720e-06 -6.35121514e-07]\nEnergy (a.u.) -77.507658\n[-6.99362925e-01  7.01092165e-01 -1.80547390e-01  1.41290840e-01\n -9.51612060e-06 -1.70842883e-02  3.66493604e-06  0.00000000e+00\n  0.00000000e+00 -9.32866156e-05 -1.26327644e-01 -1.66262367e-01\n  3.89477660e-07 -1.20543684e-01]\n[-4.05312998e-02  2.48278712e-02  4.72346345e-01 -4.29582314e-01\n  3.42852489e-05  2.64373862e-02 -1.70368505e-05  0.00000000e+00\n  0.00000000e+00  5.62401340e-04  8.19936353e-01  1.02214796e+00\n -4.40560496e-06  8.93794306e-01]\n"
     ]
    }
   ]
  },
  {
   "source": [],
   "cell_type": "markdown",
   "metadata": {}
  },
  {
   "cell_type": "code",
   "execution_count": 362,
   "metadata": {},
   "outputs": [
    {
     "output_type": "execute_result",
     "data": {
      "text/plain": [
       "'minao'"
      ]
     },
     "metadata": {},
     "execution_count": 362
    }
   ],
   "source": [
    "mf.init_guess"
   ]
  },
  {
   "cell_type": "code",
   "execution_count": 363,
   "metadata": {},
   "outputs": [
    {
     "output_type": "stream",
     "name": "stderr",
     "text": [
      "\n",
      "                                        \u001b[91m())))))))))))))))/\u001b[0m                     \n",
      "                                    \u001b[91m())))))))))))))))))))))))),\u001b[0m                \n",
      "                                \u001b[91m*)))))))))))))))))))))))))))))))))\u001b[0m             \n",
      "                        \u001b[94m#,\u001b[0m    \u001b[91m()))))))))/\u001b[0m                \u001b[91m.)))))))))),\u001b[0m          \n",
      "                      \u001b[94m#%%%%,\u001b[0m  \u001b[91m())))))\u001b[0m                        \u001b[91m.))))))))*\u001b[0m        \n",
      "                      \u001b[94m*%%%%%%,\u001b[0m  \u001b[91m))\u001b[0m              \u001b[93m..\u001b[0m              \u001b[91m,))))))).\u001b[0m      \n",
      "                        \u001b[94m*%%%%%%,\u001b[0m         \u001b[93m***************/.\u001b[0m        \u001b[91m.)))))))\u001b[0m     \n",
      "                \u001b[94m#%%/\u001b[0m      \u001b[94m(%%%%%%,\u001b[0m    \u001b[93m/*********************.\u001b[0m       \u001b[91m)))))))\u001b[0m    \n",
      "              \u001b[94m.%%%%%%#\u001b[0m      \u001b[94m*%%%%%%,\u001b[0m  \u001b[93m*******/,\u001b[0m     \u001b[93m**********,\u001b[0m      \u001b[91m.))))))\u001b[0m   \n",
      "                \u001b[94m.%%%%%%/\u001b[0m      \u001b[94m*%%%%%%,\u001b[0m  \u001b[93m**\u001b[0m              \u001b[93m********\u001b[0m      \u001b[91m.))))))\u001b[0m  \n",
      "          \u001b[94m##\u001b[0m      \u001b[94m.%%%%%%/\u001b[0m      \u001b[94m(%%%%%%,\u001b[0m                  \u001b[93m,******\u001b[0m      \u001b[91m/)))))\u001b[0m  \n",
      "        \u001b[94m%%%%%%\u001b[0m      \u001b[94m.%%%%%%#\u001b[0m      \u001b[94m*%%%%%%,\u001b[0m    \u001b[92m,/////.\u001b[0m       \u001b[93m******\u001b[0m      \u001b[91m))))))\u001b[0m \n",
      "      \u001b[94m#%\u001b[0m      \u001b[94m%%\u001b[0m      \u001b[94m.%%%%%%/\u001b[0m      \u001b[94m*%%%%%%,\u001b[0m  \u001b[92m////////,\u001b[0m      \u001b[93m*****/\u001b[0m     \u001b[91m,)))))\u001b[0m \n",
      "    \u001b[94m#%%\u001b[0m  \u001b[94m%%%\u001b[0m  \u001b[94m%%%#\u001b[0m      \u001b[94m.%%%%%%/\u001b[0m      \u001b[94m(%%%%%%,\u001b[0m  \u001b[92m///////.\u001b[0m     \u001b[93m/*****\u001b[0m      \u001b[91m))))).\u001b[0m\n",
      "  \u001b[94m#%%%%.\u001b[0m      \u001b[94m%%%%%#\u001b[0m      \u001b[94m/%%%%%%*\u001b[0m      \u001b[94m#%%%%%%\u001b[0m   \u001b[92m/////)\u001b[0m     \u001b[93m******\u001b[0m      \u001b[91m))))),\u001b[0m\n",
      "    \u001b[94m#%%%%##%\u001b[0m  \u001b[94m%%%#\u001b[0m      \u001b[94m.%%%%%%/\u001b[0m      \u001b[94m(%%%%%%,\u001b[0m  \u001b[92m///////.\u001b[0m     \u001b[93m/*****\u001b[0m      \u001b[91m))))).\u001b[0m\n",
      "      \u001b[94m##\u001b[0m     \u001b[94m%%%\u001b[0m      \u001b[94m.%%%%%%/\u001b[0m      \u001b[94m*%%%%%%,\u001b[0m  \u001b[92m////////.\u001b[0m      \u001b[93m*****/\u001b[0m     \u001b[91m,)))))\u001b[0m \n",
      "        \u001b[94m#%%%%#\u001b[0m      \u001b[94m/%%%%%%/\u001b[0m      \u001b[94m(%%%%%%\u001b[0m      \u001b[92m/)/)//\u001b[0m       \u001b[93m******\u001b[0m      \u001b[91m))))))\u001b[0m \n",
      "          \u001b[94m##\u001b[0m      \u001b[94m.%%%%%%/\u001b[0m      \u001b[94m(%%%%%%,\u001b[0m                  \u001b[93m*******\u001b[0m      \u001b[91m))))))\u001b[0m  \n",
      "                \u001b[94m.%%%%%%/\u001b[0m      \u001b[94m*%%%%%%,\u001b[0m  \u001b[93m**.\u001b[0m             \u001b[93m/*******\u001b[0m      \u001b[91m.))))))\u001b[0m  \n",
      "              \u001b[94m*%%%%%%/\u001b[0m      \u001b[94m(%%%%%%\u001b[0m   \u001b[93m********/*..,*/*********\u001b[0m       \u001b[91m*))))))\u001b[0m   \n",
      "                \u001b[94m#%%/\u001b[0m      \u001b[94m(%%%%%%,\u001b[0m    \u001b[93m*********************/\u001b[0m        \u001b[91m)))))))\u001b[0m    \n",
      "                        \u001b[94m*%%%%%%,\u001b[0m         \u001b[93m,**************/\u001b[0m         \u001b[91m,))))))/\u001b[0m     \n",
      "                      \u001b[94m(%%%%%%\u001b[0m   \u001b[91m()\u001b[0m                              \u001b[91m))))))))\u001b[0m       \n",
      "                      \u001b[94m#%%%%,\u001b[0m  \u001b[91m())))))\u001b[0m                        \u001b[91m,)))))))),\u001b[0m        \n",
      "                        \u001b[94m#,\u001b[0m    \u001b[91m())))))))))\u001b[0m                \u001b[91m,)))))))))).\u001b[0m          \n",
      "                                 \u001b[91m()))))))))))))))))))))))))))))))/\u001b[0m             \n",
      "                                    \u001b[91m())))))))))))))))))))))))).\u001b[0m                \n",
      "                                         \u001b[91m())))))))))))))),\u001b[0m                     \n",
      "\n",
      "-=# \u001b[1;94m geomeTRIC started. Version: 0.9.7.2 \u001b[0m #=-\n",
      "geometric-optimize called with the following command line:\n",
      "ipykernel_launcher --ip=127.0.0.1 --stdin=9003 --control=9001 --hb=9000 --Session.signature_scheme=\"hmac-sha256\" --Session.key=b\"9a425261-6b57-4452-b16a-6491dbb644ef\" --shell=9002 --transport=\"tcp\" --iopub=9004 --f=/var/folders/49/q5mkhw2s7kb3n5xp2xzjdk1w0000gn/T/tmp-31194UNsZNJ60guc5.json\n",
      "18 internal coordinates being used (instead of 18 Cartesians)\n",
      "Internal coordinate system (atoms numbered from 1):\n",
      "Distance 1-2\n",
      "Distance 1-3\n",
      "Distance 1-4\n",
      "Distance 2-5\n",
      "Distance 2-6\n",
      "Angle 2-1-4\n",
      "Angle 3-1-4\n",
      "Angle 1-2-6\n",
      "Angle 5-2-6\n",
      "Out-of-Plane 1-2-3-4\n",
      "Out-of-Plane 2-1-5-6\n",
      "Dihedral 3-1-2-5\n",
      "Dihedral 3-1-2-6\n",
      "Dihedral 4-1-2-5\n",
      "Dihedral 4-1-2-6\n",
      "Translation-X 1-6\n",
      "Translation-Y 1-6\n",
      "Translation-Z 1-6\n",
      "Rotation-A 1-6\n",
      "Rotation-B 1-6\n",
      "Rotation-C 1-6\n",
      "<class 'geometric.internal.Distance'> : 5\n",
      "<class 'geometric.internal.Angle'> : 4\n",
      "<class 'geometric.internal.OutOfPlane'> : 2\n",
      "<class 'geometric.internal.Dihedral'> : 4\n",
      "<class 'geometric.internal.TranslationX'> : 1\n",
      "<class 'geometric.internal.TranslationY'> : 1\n",
      "<class 'geometric.internal.TranslationZ'> : 1\n",
      "<class 'geometric.internal.RotationA'> : 1\n",
      "<class 'geometric.internal.RotationB'> : 1\n",
      "<class 'geometric.internal.RotationC'> : 1\n",
      "Step    0 : Gradient = 1.377e-02/1.510e-02 (rms/max) Energy = -77.5076580220\n",
      "Hessian Eigenvalues: 2.30000e-02 2.82170e-02 2.82172e-02 ... 3.55140e-01 3.55201e-01 5.84784e-01\n",
      "WARN: Large deviations found between the input molecule and the molecule from chkfile\n",
      "Initial guess density matrix may have large error.\n",
      "Step    1 : Displace = \u001b[0m3.426e-02\u001b[0m/\u001b[0m4.973e-02\u001b[0m (rms/max) Trust = 1.000e-01 (=) Grad = \u001b[0m5.270e-03\u001b[0m/\u001b[0m8.079e-03\u001b[0m (rms/max) E (change) = -77.5088178932 (\u001b[0m-1.160e-03\u001b[0m) Quality = \u001b[0m0.683\u001b[0m\n",
      "Hessian Eigenvalues: 2.30000e-02 2.82170e-02 2.82172e-02 ... 3.55171e-01 4.00532e-01 6.31850e-01\n",
      "WARN: Large deviations found between the input molecule and the molecule from chkfile\n",
      "Initial guess density matrix may have large error.\n",
      "Step    2 : Displace = \u001b[0m2.170e-02\u001b[0m/\u001b[0m2.702e-02\u001b[0m (rms/max) Trust = 1.000e-01 (=) Grad = \u001b[0m4.851e-03\u001b[0m/\u001b[0m6.203e-03\u001b[0m (rms/max) E (change) = -77.5088311695 (\u001b[0m-1.328e-05\u001b[0m) Quality = \u001b[0m0.032\u001b[0m\n",
      "Hessian Eigenvalues: 2.30000e-02 2.82170e-02 2.82172e-02 ... 3.55170e-01 4.67749e-01 5.91549e-01\n",
      "WARN: Large deviations found between the input molecule and the molecule from chkfile\n",
      "Initial guess density matrix may have large error.\n",
      "Step    3 : Displace = \u001b[0m1.135e-02\u001b[0m/\u001b[0m1.390e-02\u001b[0m (rms/max) Trust = 5.000e-02 (\u001b[91m-\u001b[0m) Grad = \u001b[0m3.978e-04\u001b[0m/\u001b[0m5.041e-04\u001b[0m (rms/max) E (change) = -77.5090782961 (\u001b[0m-2.471e-04\u001b[0m) Quality = \u001b[0m0.955\u001b[0m\n",
      "Hessian Eigenvalues: 2.30000e-02 2.82170e-02 2.82172e-02 ... 3.55956e-01 4.69866e-01 5.90026e-01\n",
      "Step    4 : Displace = \u001b[92m8.937e-04\u001b[0m/\u001b[92m1.183e-03\u001b[0m (rms/max) Trust = 7.071e-02 (\u001b[92m+\u001b[0m) Grad = \u001b[92m7.148e-05\u001b[0m/\u001b[92m1.032e-04\u001b[0m (rms/max) E (change) = -77.5090798284 (\u001b[0m-1.532e-06\u001b[0m) Quality = \u001b[0m0.871\u001b[0m\n",
      "Hessian Eigenvalues: 2.30000e-02 2.82170e-02 2.82172e-02 ... 3.68988e-01 4.61339e-01 6.48014e-01\n",
      "Step    5 : Displace = \u001b[92m1.213e-04\u001b[0m/\u001b[92m1.721e-04\u001b[0m (rms/max) Trust = 1.000e-01 (\u001b[92m+\u001b[0m) Grad = \u001b[92m5.518e-06\u001b[0m/\u001b[92m8.408e-06\u001b[0m (rms/max) E (change) = -77.5090798631 (\u001b[92m-3.471e-08\u001b[0m) Quality = \u001b[0m1.022\u001b[0m\n",
      "Converged! =D\n",
      "\n",
      "    #==========================================================================#\n",
      "    #| If this code has benefited your research, please support us by citing: |#\n",
      "    #|                                                                        |#\n",
      "    #| Wang, L.-P.; Song, C.C. (2016) \"Geometry optimization made simple with |#\n",
      "    #| translation and rotation coordinates\", J. Chem, Phys. 144, 214108.     |#\n",
      "    #| http://dx.doi.org/10.1063/1.4952956                                    |#\n",
      "    #==========================================================================#\n",
      "    \n",
      "Time elapsed since start of run_optimizer: 8.413 seconds\n",
      "[[-1.26623340e+00  6.60054016e-06 -5.03033631e-07]\n",
      " [ 1.26623340e+00 -6.60054016e-06  5.03033631e-07]\n",
      " [-2.37007747e+00 -1.76236243e+00  1.34311367e-01]\n",
      " [-2.37005598e+00  1.76238746e+00 -1.34313274e-01]\n",
      " [ 2.37007747e+00  1.76236243e+00 -1.34311367e-01]\n",
      " [ 2.37005598e+00 -1.76238746e+00  1.34313274e-01]]\n"
     ]
    },
    {
     "output_type": "execute_result",
     "data": {
      "text/plain": [
       "'6\\nXYZ from PySCF\\nC          -0.67006        0.00000       -0.00000\\nC           0.67006       -0.00000        0.00000\\nH          -1.25419       -0.93260        0.07107\\nH          -1.25418        0.93262       -0.07108\\nH           1.25419        0.93260       -0.07107\\nH           1.25418       -0.93262        0.07108'"
      ]
     },
     "metadata": {},
     "execution_count": 363
    }
   ],
   "source": [
    "#Geometry optmization, Convergence criteria can be selected ; For geomeTRIC contraints can be used (2 Molecules fixed distance)\n",
    "#mol_eq = optimize(mf, maxsteps=100)\n",
    "\n",
    "conv_params = { # These are the default settings\n",
    "    'convergence_energy': 1e-6,  # Eh\n",
    "    'convergence_grms': 3e-4,    # Eh/Bohr\n",
    "    'convergence_gmax': 4.5e-4,  # Eh/Bohr\n",
    "    'convergence_drms': 1.2e-3,  # Angstrom\n",
    "    'convergence_dmax': 1.8e-3,  # Angstrom\n",
    "}\n",
    "mol_eq = optimize(mf, **conv_params)\n",
    "print(mol_eq.atom_coords())\n",
    "mol_eq.tofile('geoopt.xyz')\n",
    "    "
   ]
  },
  {
   "cell_type": "code",
   "execution_count": 366,
   "metadata": {},
   "outputs": [
    {
     "output_type": "execute_result",
     "data": {
      "text/plain": [
       "((array([1.999599  , 1.05386367, 1.02568952, 1.02499287, 1.00014516,\n",
       "         1.999599  , 1.05386367, 1.02568952, 1.02499287, 1.00014516,\n",
       "         0.94785489, 0.9478549 , 0.94785489, 0.9478549 ]),\n",
       "  array([-0.10429022, -0.10429022,  0.05214511,  0.0521451 ,  0.05214511,\n",
       "          0.0521451 ])),\n",
       " array([ 1.01037333e-11,  3.11203254e-14, -2.36940845e-15]))"
      ]
     },
     "metadata": {},
     "execution_count": 366
    }
   ],
   "source": [
    "molnew = dft.RKS(mol_eq)\n",
    "molnew.xc = 'PBE'\n",
    "molnew.kernel()\n",
    "molnew.analyze()\n"
   ]
  },
  {
   "cell_type": "code",
   "execution_count": 1,
   "metadata": {},
   "outputs": [
    {
     "output_type": "error",
     "ename": "NameError",
     "evalue": "name 'mol' is not defined",
     "traceback": [
      "\u001b[0;31m---------------------------------------------------------------------------\u001b[0m",
      "\u001b[0;31mNameError\u001b[0m                                 Traceback (most recent call last)",
      "\u001b[0;32m<ipython-input-1-b8f7f367b6fa>\u001b[0m in \u001b[0;36m<module>\u001b[0;34m\u001b[0m\n\u001b[1;32m      3\u001b[0m \u001b[0;32mimport\u001b[0m \u001b[0mnumpy\u001b[0m \u001b[0;32mas\u001b[0m \u001b[0mnp\u001b[0m\u001b[0;34m\u001b[0m\u001b[0;34m\u001b[0m\u001b[0m\n\u001b[1;32m      4\u001b[0m \u001b[0;34m\u001b[0m\u001b[0m\n\u001b[0;32m----> 5\u001b[0;31m \u001b[0matomtemp\u001b[0m \u001b[0;34m=\u001b[0m \u001b[0mmol\u001b[0m\u001b[0;34m.\u001b[0m\u001b[0matom\u001b[0m\u001b[0;34m\u001b[0m\u001b[0;34m\u001b[0m\u001b[0m\n\u001b[0m\u001b[1;32m      6\u001b[0m \u001b[0;34m\u001b[0m\u001b[0m\n\u001b[1;32m      7\u001b[0m \u001b[0;31m#To convert from the mol object from PySCF into the format of the PySCFDriver\u001b[0m\u001b[0;34m\u001b[0m\u001b[0;34m\u001b[0m\u001b[0;34m\u001b[0m\u001b[0m\n",
      "\u001b[0;31mNameError\u001b[0m: name 'mol' is not defined"
     ]
    }
   ],
   "source": [
    "from qiskit_nature.drivers import PySCFDriver, UnitsType, QMolecule, Molecule\n",
    "from qiskit_nature.problems.second_quantization.electronic import ElectronicStructureProblem\n",
    "import numpy as np\n",
    "\n",
    "atomtemp = mol.atom\n",
    "\n",
    "#To convert from the mol object from PySCF into the format of the PySCFDriver\n",
    "my_strings = []\n",
    "for tupl in atomtemp:\n",
    "    my_strings.append(\n",
    "        f\"{tupl[0]} {tupl[1][0]} {tupl[1][1]} {tupl[1][2]}\"\n",
    "    )\n",
    "my_lst_str = ' ; '.join(my_strings)\n",
    "\n",
    "\n",
    "driver = PySCFDriver(atom=my_lst_str,\n",
    "                     unit=UnitsType.ANGSTROM,\n",
    "                     basis='sto-3g')\n",
    "problem = ElectronicStructureProblem(driver)\n",
    "second_q_ops = problem.second_q_ops()\n",
    "\n",
    "\n",
    "\n",
    "molecule = Molecule(geometry=mol.atom,charge=0, multiplicity=1)\n",
    "driver = PySCFDriver(molecule = molecule, unit=UnitsType.ANGSTROM, basis='sto3g')\n",
    "problem = ElectronicStructureProblem(driver)\n",
    "second_q_ops = problem.second_q_ops()"
   ]
  },
  {
   "cell_type": "code",
   "execution_count": 472,
   "metadata": {},
   "outputs": [
    {
     "output_type": "stream",
     "name": "stdout",
     "text": [
      "['C 0.00 1 2', 'H 1.00 1 2']\n"
     ]
    }
   ],
   "source": [
    "my_list_of_tuple = [\n",
    "    ('C', [0, 1, 2]),\n",
    "    ('H', [1, 1, 2]),\n",
    "]\n",
    "my_strings = []\n",
    "for tupl in my_list_of_tuple:\n",
    "    my_strings.append(\n",
    "        f\"{tupl[0]} {tupl[1][0]:.2f} {tupl[1][1]} {tupl[1][2]}\"\n",
    "    )\n",
    "\n",
    "print(my_strings)\n"
   ]
  },
  {
   "cell_type": "code",
   "execution_count": null,
   "metadata": {},
   "outputs": [],
   "source": []
  }
 ]
}